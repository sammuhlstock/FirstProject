{
  "nbformat": 4,
  "nbformat_minor": 0,
  "metadata": {
    "colab": {
      "name": "Lab1.ipynb",
      "provenance": [],
      "collapsed_sections": [],
      "authorship_tag": "ABX9TyMj6NJi2cZNxlaCBPW6PYf5",
      "include_colab_link": true
    },
    "kernelspec": {
      "name": "python3",
      "display_name": "Python 3"
    }
  },
  "cells": [
    {
      "cell_type": "markdown",
      "metadata": {
        "id": "view-in-github",
        "colab_type": "text"
      },
      "source": [
        "<a href=\"https://colab.research.google.com/github/sammuhlstock/FirstProject/blob/master/Lab1.ipynb\" target=\"_parent\"><img src=\"https://colab.research.google.com/assets/colab-badge.svg\" alt=\"Open In Colab\"/></a>"
      ]
    },
    {
      "cell_type": "markdown",
      "metadata": {
        "id": "5mFXtSjMu7tB",
        "colab_type": "text"
      },
      "source": [
        "## Do you like using Jupyter Notebooks?"
      ]
    },
    {
      "cell_type": "markdown",
      "metadata": {
        "id": "On7cQtlAvIje",
        "colab_type": "text"
      },
      "source": [
        "I do like using Jupyter Notebooks it is a very cool tool. I am excited to learn more about it as well."
      ]
    },
    {
      "cell_type": "markdown",
      "metadata": {
        "id": "bdPFVqFMvPb9",
        "colab_type": "text"
      },
      "source": [
        "## What do you want to learn more about in Jupyter Notebooks"
      ]
    },
    {
      "cell_type": "markdown",
      "metadata": {
        "id": "j4vCPDSwvTIl",
        "colab_type": "text"
      },
      "source": [
        "I would like to learn more about the features of it. I would also love to learn how to use it better. "
      ]
    },
    {
      "cell_type": "markdown",
      "metadata": {
        "id": "vvvzb2xYvdu2",
        "colab_type": "text"
      },
      "source": [
        "![Beach](https://raw.githubusercontent.com/sammuhlstock/FirstProject/master/Images/Featured%20Cuba%20Beaches.jpg)"
      ]
    }
  ]
}